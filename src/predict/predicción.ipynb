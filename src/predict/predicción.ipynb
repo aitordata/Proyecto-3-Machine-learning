{
 "cells": [
  {
   "cell_type": "code",
   "execution_count": 5,
   "metadata": {},
   "outputs": [],
   "source": [
    "import pandas as pd \n",
    "import pickle\n",
    "import numpy as np"
   ]
  },
  {
   "cell_type": "code",
   "execution_count": 2,
   "metadata": {},
   "outputs": [],
   "source": [
    "test_data= pd.read_csv(\"/Users/aitormentxaka/Desktop/Data science/proyectos/Modelo machine learning regresión/src/data/data_clean/test_data_clean.csv\")\n",
    "test_data.set_index(\"Id\", inplace=True)"
   ]
  },
  {
   "cell_type": "code",
   "execution_count": 6,
   "metadata": {},
   "outputs": [],
   "source": [
    "def aplicar_logaritmos(df):\n",
    "    df_copy = df.copy()\n",
    "    for col in df.columns:\n",
    "        unique_values = df[col].nunique()\n",
    "        if unique_values > 10 and all(df[col] > 0):\n",
    "            df_copy[col] = np.log1p(df[col])\n",
    "    return df_copy"
   ]
  },
  {
   "cell_type": "code",
   "execution_count": 7,
   "metadata": {},
   "outputs": [],
   "source": [
    "test_data_log= aplicar_logaritmos(test_data)"
   ]
  },
  {
   "cell_type": "code",
   "execution_count": 9,
   "metadata": {},
   "outputs": [],
   "source": [
    "with open('/Users/aitormentxaka/Desktop/Data science/proyectos/Modelo machine learning regresión/src/modelo/modelo_final.pkl', 'rb') as archivo:\n",
    "    modelo_final = pickle.load(archivo)"
   ]
  },
  {
   "cell_type": "code",
   "execution_count": 10,
   "metadata": {},
   "outputs": [],
   "source": [
    "predicciones_final= modelo_final.predict(test_data_log)\n",
    "predicciones_final = {'id': test_data.index, 'SalePrice':np.exp(predicciones_final)-1}\n",
    "respuestas_final = pd.DataFrame(predicciones_final)\n",
    "respuestas_final.to_csv(\"predicción_final.csv\", index=False)"
   ]
  }
 ],
 "metadata": {
  "kernelspec": {
   "display_name": "Python 3",
   "language": "python",
   "name": "python3"
  },
  "language_info": {
   "codemirror_mode": {
    "name": "ipython",
    "version": 3
   },
   "file_extension": ".py",
   "mimetype": "text/x-python",
   "name": "python",
   "nbconvert_exporter": "python",
   "pygments_lexer": "ipython3",
   "version": "3.11.4 (v3.11.4:d2340ef257, Jun  6 2023, 19:15:51) [Clang 13.0.0 (clang-1300.0.29.30)]"
  },
  "orig_nbformat": 4,
  "vscode": {
   "interpreter": {
    "hash": "aee8b7b246df8f9039afb4144a1f6fd8d2ca17a180786b69acc140d282b71a49"
   }
  }
 },
 "nbformat": 4,
 "nbformat_minor": 2
}
